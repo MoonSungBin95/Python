{
 "cells": [
  {
   "cell_type": "markdown",
   "id": "e4a85ba5-1602-4f89-a084-48e724d57ef6",
   "metadata": {},
   "source": [
    "# 구조물 건전성 모니터링"
   ]
  },
  {
   "cell_type": "markdown",
   "id": "b20c3aee-1e67-4842-9a0f-d5acac6044b6",
   "metadata": {},
   "source": [
    "## 1) 데이터 수집"
   ]
  },
  {
   "cell_type": "code",
   "execution_count": 4,
   "id": "4e863dc4-094b-4371-b63b-311c66aea568",
   "metadata": {},
   "outputs": [],
   "source": [
    "import numpy as np\n",
    "import pandas as pd\n",
    "import matplotlib.pyplot as plt\n",
    "import seaborn as sns\n",
    "import matplotlib.ticker as ticker\n",
    "\n",
    "data_df = pd.read_csv('structuredata.dat', sep=',', header = 0, engine='python')\n",
    "data_df.to_csv('structuredata2.csv', index=False)"
   ]
  },
  {
   "cell_type": "markdown",
   "id": "1f0c1419-8a44-4d7a-9991-9dcfd34ccaf8",
   "metadata": {},
   "source": [
    "## 2) 데이터 준비 및 탐색"
   ]
  },
  {
   "cell_type": "code",
   "execution_count": 5,
   "id": "62e6bd04-d069-420c-be95-50c32f8b92f9",
   "metadata": {},
   "outputs": [
    {
     "name": "stdout",
     "output_type": "stream",
     "text": [
      "데이터셋 크기 :  (21600, 67)\n"
     ]
    }
   ],
   "source": [
    "print('데이터셋 크기 : ', data_df.shape)"
   ]
  },
  {
   "cell_type": "code",
   "execution_count": null,
   "id": "bbb4fd97-28f0-4721-8690-f1bc4c6090f7",
   "metadata": {},
   "outputs": [],
   "source": []
  }
 ],
 "metadata": {
  "kernelspec": {
   "display_name": "Python 3 (ipykernel)",
   "language": "python",
   "name": "python3"
  },
  "language_info": {
   "codemirror_mode": {
    "name": "ipython",
    "version": 3
   },
   "file_extension": ".py",
   "mimetype": "text/x-python",
   "name": "python",
   "nbconvert_exporter": "python",
   "pygments_lexer": "ipython3",
   "version": "3.11.7"
  }
 },
 "nbformat": 4,
 "nbformat_minor": 5
}
